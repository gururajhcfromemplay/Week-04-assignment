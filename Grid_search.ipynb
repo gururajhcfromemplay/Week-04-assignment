{
 "cells": [
  {
   "cell_type": "code",
   "execution_count": 1,
   "id": "819401cf",
   "metadata": {},
   "outputs": [],
   "source": [
    "import numpy as np\n",
    "import pandas as pd\n",
    "from sklearn.decomposition import PCA\n",
    "from sklearn.preprocessing import StandardScaler\n",
    "from xgboost import XGBRegressor\n",
    "from sklearn.model_selection import train_test_split\n",
    "from sklearn.metrics import mean_squared_error,mean_absolute_error\n",
    "import seaborn as sns\n",
    "import matplotlib.pyplot as plt\n",
    "from sklearn.model_selection import GridSearchCV\n",
    "from sklearn.linear_model import LinearRegression, Lasso, Ridge\n",
    "from sklearn.svm import SVR\n",
    "from sklearn.ensemble import RandomForestRegressor, GradientBoostingRegressor\n",
    "import xgboost as xgb\n",
    "from sklearn.metrics import mean_squared_error\n",
    "from math import sqrt\n",
    "from sklearn.model_selection import train_test_split\n",
    "import pprint\n",
    "import warnings\n",
    "warnings.filterwarnings('ignore')"
   ]
  },
  {
   "cell_type": "code",
   "execution_count": 2,
   "id": "5fda7ade",
   "metadata": {},
   "outputs": [],
   "source": [
    "df1 = pd.read_csv('train.csv')\n",
    "df = df1.copy()"
   ]
  },
  {
   "cell_type": "code",
   "execution_count": 3,
   "id": "4a8bfd05",
   "metadata": {},
   "outputs": [],
   "source": [
    "df['PoolQC'] = df['PoolQC'].fillna(value='NP')\n",
    "df['MiscFeature'] = df['MiscFeature'].fillna(value='Not_present')\n",
    "df['Alley'] = df['Alley'].fillna(value='No_access')\n",
    "df['Fence'] = df['Fence'].fillna(value='No_fence')\n",
    "df['FireplaceQu'] = df['FireplaceQu'].fillna(value='No_fire')\n",
    "df['LotFrontage'] = df['LotFrontage'].fillna(value=0.0)\n",
    "df['GarageFinish'] = df['GarageFinish'].fillna(value='No_garage')\n",
    "df['GarageYrBlt'] = df['GarageYrBlt'].fillna(value=df['GarageYrBlt'].mode()[0])\n",
    "df['GarageQual'] = df['GarageQual'].fillna(value='No_garage')\n",
    "df['GarageType'] = df['GarageType'].fillna(value='No_garage')\n",
    "df['GarageCond'] = df['GarageCond'].fillna(value='No_garage')\n",
    "df['BsmtFinType2'] = df['BsmtFinType2'].fillna(value='No_basement')\n",
    "df['BsmtExposure'] = df['BsmtExposure'].fillna(value='No_basement')\n",
    "df['BsmtFinType1'] = df['BsmtFinType1'].fillna(value='No_basement')\n",
    "df['BsmtQual'] = df['BsmtQual'].fillna(value='No_basement')\n",
    "df['BsmtCond'] = df['BsmtCond'].fillna(value='No_basement')\n",
    "df['MasVnrArea'] = df['MasVnrArea'].fillna(value=0.0)\n",
    "df['MasVnrType'] = df['MasVnrType'].fillna(value='No_masonary')\n",
    "df['Electrical'] = df['Electrical'].fillna(value=df['GarageYrBlt'].mode()[0])\n",
    "df['LotFrontage'] = df['LotFrontage'].astype(int)\n",
    "df['MasVnrArea'] = df['MasVnrArea'].astype(int)\n",
    "df['GarageYrBlt'] = df['GarageYrBlt'].astype(int)\n",
    "dtypes = pd.DataFrame(df.dtypes)\n",
    "dtypes = dtypes.reset_index(drop=False)\n",
    "dtypes = dtypes.rename(columns={'index':'Feature',0:'dtype'})\n",
    "cols = list(dtypes['Feature'][dtypes['dtype'] == 'int64'])\n",
    "to_remove = ['Id','LowQualFinSF','SalePrice','BsmtHalfBath','EnclosedPorch','3SsnPorch','ScreenPorch',\n",
    "             'PoolArea','MiscVal','BsmtFinSF2','KitchenAbvGr']\n",
    "\n",
    "for i in to_remove:\n",
    "    if i in cols:\n",
    "        cols.remove(i)\n",
    "for i in cols:\n",
    "    df = df.sort_values(by=i, ascending=True)\n",
    "    Q1 = df[i].quantile(0.25)\n",
    "    Q3 = df[i].quantile(0.75)\n",
    "    IQR = Q3 - Q1\n",
    "    ll = Q1 - 1.5*IQR\n",
    "    ul = Q3 + 1.5*IQR\n",
    "    for j in range(len(df)):\n",
    "        if df[i][j] < ll:\n",
    "            df[i][j] = ll\n",
    "        elif df[i][j] > ul:\n",
    "            df[i][j] = ul\n",
    "\n"
   ]
  },
  {
   "cell_type": "code",
   "execution_count": 4,
   "id": "c3eb1718",
   "metadata": {},
   "outputs": [],
   "source": [
    "df_dt = pd.DataFrame(df.dtypes)\n",
    "df_dt = df_dt.reset_index(drop=False)\n",
    "df_dt = df_dt.rename(columns = {'index':'Name',0:'Type'})\n",
    "cols2 = list(df_dt['Name'][df_dt['Type'] == 'object'])\n",
    "df_res = pd.get_dummies(df, columns=cols2,drop_first=True)"
   ]
  },
  {
   "cell_type": "code",
   "execution_count": 5,
   "id": "3e67e5f3",
   "metadata": {},
   "outputs": [],
   "source": [
    "ss = StandardScaler()\n",
    "y = np.log(df_res['SalePrice'])\n",
    "X = df_res.drop(columns='SalePrice', axis=1)\n",
    "X_Scaled = ss.fit_transform(X)"
   ]
  },
  {
   "cell_type": "code",
   "execution_count": 6,
   "id": "3a3cc5b8",
   "metadata": {},
   "outputs": [],
   "source": [
    "pca = PCA(n_components=10)\n",
    "X_pca = pca.fit_transform(X_Scaled)"
   ]
  },
  {
   "cell_type": "code",
   "execution_count": 7,
   "id": "5bc02c0e",
   "metadata": {},
   "outputs": [],
   "source": [
    "X_train, X_test, y_train, y_test = train_test_split(X_pca,y, test_size=0.2, random_state=30)"
   ]
  },
  {
   "cell_type": "code",
   "execution_count": 8,
   "id": "c1b021eb",
   "metadata": {},
   "outputs": [],
   "source": [
    "# Define models and hyperparameters\n",
    "models = {\n",
    "    'LinearRegression': LinearRegression(),\n",
    "    'Lasso': Lasso(),\n",
    "    'Ridge': Ridge(),\n",
    "    'SVR': SVR(),\n",
    "    'RandomForestRegressor': RandomForestRegressor(),\n",
    "    'GradientBoostingRegressor': GradientBoostingRegressor(),\n",
    "    'XGBoostRegressor': xgb.XGBRegressor()\n",
    "}\n",
    "\n",
    "param_grid = {\n",
    "    'LinearRegression': {},\n",
    "    'Lasso': {'alpha': [0.1, 0.5, 1.0]},\n",
    "    'Ridge': {'alpha': [0.1, 0.5, 1.0]},\n",
    "    'SVR': {'C': [1, 10, 100], 'kernel': ['linear', 'rbf']},\n",
    "    'RandomForestRegressor': {'n_estimators': [10, 50, 100], 'max_depth': [None, 10, 20]},\n",
    "    'GradientBoostingRegressor': {'n_estimators': [10, 50, 100], 'learning_rate': [0.01, 0.1, 1.0]},\n",
    "    'XGBoostRegressor': {'n_estimators': [10, 50, 100], 'learning_rate': [0.01, 0.1, 1.0]}\n",
    "}\n",
    "\n",
    "# Create a function to calculate RMSE\n",
    "def rmse(y_true, y_pred):\n",
    "    return sqrt(mean_squared_error(y_true, y_pred))\n",
    "\n",
    "results = {}\n",
    "for model_name, model in models.items():\n",
    "    grid_search = GridSearchCV(model, param_grid[model_name], scoring='neg_mean_squared_error', cv=5, n_jobs=-1)\n",
    "    grid_search.fit(X_train, y_train)\n",
    "    \n",
    "    best_model = grid_search.best_estimator_\n",
    "    best_params = grid_search.best_params_\n",
    "    y_pred = np.log(best_model.predict(X_test))\n",
    "    \n",
    "    rmse_score = rmse(y_test, y_pred)\n",
    "    \n",
    "    results[model_name] = {\n",
    "        'best_estimator': best_model,\n",
    "        'best_params': best_params,\n",
    "        'RMSE': rmse_score\n",
    "    }\n"
   ]
  },
  {
   "cell_type": "code",
   "execution_count": 9,
   "id": "7f753e29",
   "metadata": {},
   "outputs": [
    {
     "name": "stdout",
     "output_type": "stream",
     "text": [
      "{'GradientBoostingRegressor': {'RMSE': 9.554918380179512,\n",
      "                               'best_estimator': GradientBoostingRegressor(),\n",
      "                               'best_params': {'learning_rate': 0.1,\n",
      "                                               'n_estimators': 100}},\n",
      " 'Lasso': {'RMSE': 9.55509918134933,\n",
      "           'best_estimator': Lasso(alpha=0.1),\n",
      "           'best_params': {'alpha': 0.1}},\n",
      " 'LinearRegression': {'RMSE': 9.555190514576992,\n",
      "                      'best_estimator': LinearRegression(),\n",
      "                      'best_params': {}},\n",
      " 'RandomForestRegressor': {'RMSE': 9.55515385010107,\n",
      "                           'best_estimator': RandomForestRegressor(max_depth=10),\n",
      "                           'best_params': {'max_depth': 10,\n",
      "                                           'n_estimators': 100}},\n",
      " 'Ridge': {'RMSE': 9.55519045043781,\n",
      "           'best_estimator': Ridge(),\n",
      "           'best_params': {'alpha': 1.0}},\n",
      " 'SVR': {'RMSE': 9.554349782575017,\n",
      "         'best_estimator': SVR(C=1),\n",
      "         'best_params': {'C': 1, 'kernel': 'rbf'}},\n",
      " 'XGBoostRegressor': {'RMSE': 9.55530199137657,\n",
      "                      'best_estimator': XGBRegressor(base_score=0.5, booster='gbtree', callbacks=None,\n",
      "             colsample_bylevel=1, colsample_bynode=1, colsample_bytree=1,\n",
      "             early_stopping_rounds=None, enable_categorical=False,\n",
      "             eval_metric=None, gamma=0, gpu_id=-1, grow_policy='depthwise',\n",
      "             importance_type=None, interaction_constraints='',\n",
      "             learning_rate=0.1, max_bin=256, max_cat_to_onehot=4,\n",
      "             max_delta_step=0, max_depth=6, max_leaves=0, min_child_weight=1,\n",
      "             missing=nan, monotone_constraints='()', n_estimators=100, n_jobs=0,\n",
      "             num_parallel_tree=1, predictor='auto', random_state=0, reg_alpha=0,\n",
      "             reg_lambda=1, ...),\n",
      "                      'best_params': {'learning_rate': 0.1,\n",
      "                                      'n_estimators': 100}}}\n"
     ]
    }
   ],
   "source": [
    "pprint.pprint(results)"
   ]
  },
  {
   "cell_type": "code",
   "execution_count": null,
   "id": "83d103bf",
   "metadata": {},
   "outputs": [],
   "source": []
  }
 ],
 "metadata": {
  "kernelspec": {
   "display_name": "Python 3",
   "language": "python",
   "name": "python3"
  },
  "language_info": {
   "codemirror_mode": {
    "name": "ipython",
    "version": 3
   },
   "file_extension": ".py",
   "mimetype": "text/x-python",
   "name": "python",
   "nbconvert_exporter": "python",
   "pygments_lexer": "ipython3",
   "version": "3.7.9"
  }
 },
 "nbformat": 4,
 "nbformat_minor": 5
}
